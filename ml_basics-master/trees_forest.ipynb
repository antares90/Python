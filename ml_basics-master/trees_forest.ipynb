{
 "cells": [
  {
   "cell_type": "markdown",
   "metadata": {},
   "source": [
    "# Decision Trees"
   ]
  },
  {
   "cell_type": "code",
   "execution_count": 93,
   "metadata": {},
   "outputs": [],
   "source": [
    "import numpy as np\n",
    "import pandas as pd\n",
    "import matplotlib.pyplot as plt"
   ]
  },
  {
   "cell_type": "code",
   "execution_count": 94,
   "metadata": {},
   "outputs": [],
   "source": [
    "np.random.seed(42)"
   ]
  },
  {
   "cell_type": "code",
   "execution_count": 95,
   "metadata": {},
   "outputs": [],
   "source": [
    "df_iris = pd.read_csv('iris.csv')"
   ]
  },
  {
   "cell_type": "code",
   "execution_count": 96,
   "metadata": {},
   "outputs": [],
   "source": [
    "df_iris = df_iris.iloc[:100]\n",
    "df_iris = df_iris.sample(frac=1).reset_index(drop=True)\n",
    "df_iris['species'] = df_iris['species'].astype('category').cat.codes"
   ]
  },
  {
   "cell_type": "code",
   "execution_count": 97,
   "metadata": {},
   "outputs": [
    {
     "data": {
      "text/html": [
       "<div>\n",
       "<style scoped>\n",
       "    .dataframe tbody tr th:only-of-type {\n",
       "        vertical-align: middle;\n",
       "    }\n",
       "\n",
       "    .dataframe tbody tr th {\n",
       "        vertical-align: top;\n",
       "    }\n",
       "\n",
       "    .dataframe thead th {\n",
       "        text-align: right;\n",
       "    }\n",
       "</style>\n",
       "<table border=\"1\" class=\"dataframe\">\n",
       "  <thead>\n",
       "    <tr style=\"text-align: right;\">\n",
       "      <th></th>\n",
       "      <th>sepal_length</th>\n",
       "      <th>sepal_width</th>\n",
       "      <th>petal_length</th>\n",
       "      <th>petal_width</th>\n",
       "      <th>species</th>\n",
       "    </tr>\n",
       "  </thead>\n",
       "  <tbody>\n",
       "    <tr>\n",
       "      <th>0</th>\n",
       "      <td>6.0</td>\n",
       "      <td>2.7</td>\n",
       "      <td>5.1</td>\n",
       "      <td>1.6</td>\n",
       "      <td>1</td>\n",
       "    </tr>\n",
       "    <tr>\n",
       "      <th>1</th>\n",
       "      <td>5.5</td>\n",
       "      <td>2.3</td>\n",
       "      <td>4.0</td>\n",
       "      <td>1.3</td>\n",
       "      <td>1</td>\n",
       "    </tr>\n",
       "    <tr>\n",
       "      <th>2</th>\n",
       "      <td>5.9</td>\n",
       "      <td>3.2</td>\n",
       "      <td>4.8</td>\n",
       "      <td>1.8</td>\n",
       "      <td>1</td>\n",
       "    </tr>\n",
       "    <tr>\n",
       "      <th>3</th>\n",
       "      <td>4.8</td>\n",
       "      <td>3.0</td>\n",
       "      <td>1.4</td>\n",
       "      <td>0.3</td>\n",
       "      <td>0</td>\n",
       "    </tr>\n",
       "    <tr>\n",
       "      <th>4</th>\n",
       "      <td>5.1</td>\n",
       "      <td>3.8</td>\n",
       "      <td>1.9</td>\n",
       "      <td>0.4</td>\n",
       "      <td>0</td>\n",
       "    </tr>\n",
       "  </tbody>\n",
       "</table>\n",
       "</div>"
      ],
      "text/plain": [
       "   sepal_length  sepal_width  petal_length  petal_width  species\n",
       "0           6.0          2.7           5.1          1.6        1\n",
       "1           5.5          2.3           4.0          1.3        1\n",
       "2           5.9          3.2           4.8          1.8        1\n",
       "3           4.8          3.0           1.4          0.3        0\n",
       "4           5.1          3.8           1.9          0.4        0"
      ]
     },
     "execution_count": 97,
     "metadata": {},
     "output_type": "execute_result"
    }
   ],
   "source": [
    "df_iris.head()"
   ]
  },
  {
   "cell_type": "code",
   "execution_count": 98,
   "metadata": {},
   "outputs": [
    {
     "name": "stdout",
     "output_type": "stream",
     "text": [
      "X_train.shape: (67, 2)\n",
      "Y_train.shape: (67,)\n",
      "X_test.shape: (33, 2)\n",
      "Y_test.shape: (33,)\n"
     ]
    }
   ],
   "source": [
    "X_train = df_iris[['sepal_length', 'sepal_width']][:67].values\n",
    "Y_train = df_iris['species'][:67]\n",
    "\n",
    "X_test = df_iris[['sepal_length', 'sepal_width']][67:].values\n",
    "Y_test = df_iris['species'][67:]\n",
    "\n",
    "print(\"X_train.shape: {}\".format(X_train.shape))\n",
    "print(\"Y_train.shape: {}\".format(Y_train.shape))\n",
    "print(\"X_test.shape: {}\".format(X_test.shape))\n",
    "print(\"Y_test.shape: {}\".format(Y_test.shape))"
   ]
  },
  {
   "cell_type": "code",
   "execution_count": 99,
   "metadata": {},
   "outputs": [
    {
     "data": {
      "text/plain": [
       "DecisionTreeClassifier(class_weight=None, criterion='gini', max_depth=None,\n",
       "            max_features=None, max_leaf_nodes=None,\n",
       "            min_impurity_decrease=0.0, min_impurity_split=None,\n",
       "            min_samples_leaf=1, min_samples_split=2,\n",
       "            min_weight_fraction_leaf=0.0, presort=False, random_state=42,\n",
       "            splitter='best')"
      ]
     },
     "execution_count": 99,
     "metadata": {},
     "output_type": "execute_result"
    }
   ],
   "source": [
    "from sklearn.tree import DecisionTreeClassifier\n",
    "clf = DecisionTreeClassifier(random_state=42)\n",
    "clf.fit(X_train, Y_train)"
   ]
  },
  {
   "cell_type": "code",
   "execution_count": 100,
   "metadata": {},
   "outputs": [
    {
     "data": {
      "text/plain": [
       "0.9090909090909091"
      ]
     },
     "execution_count": 100,
     "metadata": {},
     "output_type": "execute_result"
    }
   ],
   "source": [
    "from sklearn.metrics import accuracy_score\n",
    "Y_pred = clf.predict(X_test)\n",
    "accuracy_score(Y_pred, Y_test)"
   ]
  },
  {
   "cell_type": "code",
   "execution_count": 101,
   "metadata": {},
   "outputs": [],
   "source": [
    "h = 0.01\n",
    "x_min, x_max = X_train[:, 0].min()-1, X_train[:, 0].max()+1\n",
    "y_min, y_max = X_train[:, 1].min()-1, X_train[:, 1].max()+1\n",
    "xx, yy = np.meshgrid(np.arange(x_min, x_max, h),\n",
    "                     np.arange(y_min, y_max, h))"
   ]
  },
  {
   "cell_type": "code",
   "execution_count": 102,
   "metadata": {},
   "outputs": [
    {
     "data": {
      "text/plain": [
       "<matplotlib.contour.QuadContourSet at 0x1a31c40ba8>"
      ]
     },
     "execution_count": 102,
     "metadata": {},
     "output_type": "execute_result"
    },
    {
     "data": {
      "image/png": "[encoded data removed]",
      "text/plain": [
       "<matplotlib.figure.Figure at 0x1a2cc9c518>"
      ]
     },
     "metadata": {},
     "output_type": "display_data"
    }
   ],
   "source": [
    "Z = clf.predict(np.c_[xx.ravel(), yy.ravel()])\n",
    "Z = Z.reshape(xx.shape)\n",
    "plt.plot(X_train[Y_train == 0][:, 0], X_train[Y_train == 0][:, 1], 'rx', label='Train')\n",
    "plt.plot(X_train[Y_train == 1][:, 0], X_train[Y_train == 1][:, 1], 'bx')\n",
    "plt.plot(X_test[Y_test == 0][:, 0], X_test[Y_test == 0][:, 1], 'ro', label='Test')\n",
    "plt.plot(X_test[Y_test == 1][:, 0], X_test[Y_test == 1][:, 1], 'bo')\n",
    "plt.legend()\n",
    "plt.contourf(xx, yy, Z, cmap=plt.cm.Pastel1, alpha=0.8)"
   ]
  },
  {
   "cell_type": "code",
   "execution_count": 103,
   "metadata": {},
   "outputs": [],
   "source": [
    "from sklearn.datasets import make_classification\n",
    "classification_problem = make_classification(n_features = 2, n_informative = 2, \n",
    "                                                      n_classes = 3, n_redundant=0, \n",
    "                                                      n_clusters_per_class=1, random_state=3)"
   ]
  },
  {
   "cell_type": "code",
   "execution_count": null,
   "metadata": {},
   "outputs": [],
   "source": []
  },
  {
   "cell_type": "code",
   "execution_count": 104,
   "metadata": {},
   "outputs": [],
   "source": [
    "X_train = classification_problem[0]\n",
    "Y_train = classification_problem[1]"
   ]
  },
  {
   "cell_type": "code",
   "execution_count": 105,
   "metadata": {},
   "outputs": [],
   "source": [
    "from matplotlib.colors import ListedColormap\n",
    "colors = ListedColormap(['red', 'blue', 'yellow'])\n",
    "light_colors = ListedColormap(['lightcoral', 'lightblue', 'lightyellow'])"
   ]
  },
  {
   "cell_type": "code",
   "execution_count": 106,
   "metadata": {},
   "outputs": [
    {
     "data": {
      "text/plain": [
       "[2.2188665057293804,\n",
       " 2.0716999622963375,\n",
       " -1.9397726230603818,\n",
       " 2.084367592196723,\n",
       " 0.9499837198146149,\n",
       " -0.3878893015851287,\n",
       " 1.9811853378751305,\n",
       " 1.6550813432127125,\n",
       " 2.6099669077650045,\n",
       " -0.29137472144777643,\n",
       " -0.9841873277223523,\n",
       " -0.1539987740152815,\n",
       " -0.22167728656714591,\n",
       " 2.8828504835642015,\n",
       " 1.1745974264933627,\n",
       " -0.3170407482612676,\n",
       " 1.480235272006499,\n",
       " 1.5186325223070436,\n",
       " -0.7044120982613213,\n",
       " 1.0606055752601515,\n",
       " 3.0423762584271783,\n",
       " -1.6067147272780344,\n",
       " -0.24102129872319866,\n",
       " 1.8878332768891837,\n",
       " 0.12865420044004594,\n",
       " -1.6842897136105561,\n",
       " -0.7699090953242809,\n",
       " 3.0636560206884202,\n",
       " -1.0647493513468755,\n",
       " -0.34416852827446065,\n",
       " 2.134049828827021,\n",
       " 1.125638523684688,\n",
       " 2.00005500499144,\n",
       " 2.071351108203449,\n",
       " 0.8011322915203358,\n",
       " 2.6236833311356085,\n",
       " 1.093909041892914,\n",
       " -0.11838509655735496,\n",
       " 1.173334438647049,\n",
       " -1.1156507966410545,\n",
       " -0.8112854052895109,\n",
       " -0.2891178630714162,\n",
       " 3.4545448331841624,\n",
       " 0.02133037153021533,\n",
       " 0.5984125912923005,\n",
       " 0.997926860405717,\n",
       " -0.8564494281472498,\n",
       " -1.6409435534308456,\n",
       " 1.6112206359833894,\n",
       " -0.4774166730688456,\n",
       " -1.1054598144012417,\n",
       " -1.3283754327096489,\n",
       " -1.4099721502861726,\n",
       " -0.635174525832708,\n",
       " -1.6602685743369645,\n",
       " -2.086679189631887,\n",
       " -1.0111296252444764,\n",
       " 1.0550439075134537,\n",
       " 1.5608930703829533,\n",
       " -1.0207764407716922,\n",
       " 1.2333783854595257,\n",
       " 1.8228525565329403,\n",
       " -0.6145412097415015,\n",
       " 0.060025484490764724,\n",
       " -1.9091963622589092,\n",
       " 0.027491831504476982,\n",
       " 1.2933654957483538,\n",
       " -0.7960296608267029,\n",
       " -0.06295081085513088,\n",
       " 0.5074517477011392,\n",
       " 0.687208305484585,\n",
       " -1.0257085831394412,\n",
       " 0.7006250285833813,\n",
       " 0.6042899166908146,\n",
       " 1.3376420142605399,\n",
       " -1.3308669568563443,\n",
       " 3.8212397792840984,\n",
       " 0.35349940528038115,\n",
       " 1.2401439854523248,\n",
       " -1.7276996795892918,\n",
       " 0.9919847648587892,\n",
       " 1.3049725571655333,\n",
       " 1.1075244238400217,\n",
       " 0.49288932941339947,\n",
       " 1.7049970975895032,\n",
       " -0.9734183017573683,\n",
       " 2.3754920622053985,\n",
       " 0.5872160250011771,\n",
       " 0.554455201152539,\n",
       " 0.6769395780324441,\n",
       " 1.756966953760089,\n",
       " 2.375761926898077,\n",
       " -0.9613414992071161,\n",
       " -1.7541766606336124,\n",
       " 0.28401086608633985,\n",
       " 0.6602139124838227,\n",
       " 1.5207032186670646,\n",
       " -1.641083159566311,\n",
       " 1.5466643570175478,\n",
       " -2.154127945648506]"
      ]
     },
     "execution_count": 106,
     "metadata": {},
     "output_type": "execute_result"
    }
   ],
   "source": [
    "[x[0] for x in X_train]"
   ]
  },
  {
   "cell_type": "code",
   "execution_count": 107,
   "metadata": {},
   "outputs": [
    {
     "data": {
      "text/plain": [
       "<matplotlib.collections.PathCollection at 0x1a32a51748>"
      ]
     },
     "execution_count": 107,
     "metadata": {},
     "output_type": "execute_result"
    },
    {
     "data": {
      "image/png": "[encoded data removed]",
      "text/plain": [
       "<matplotlib.figure.Figure at 0x1a2b705c88>"
      ]
     },
     "metadata": {},
     "output_type": "display_data"
    }
   ],
   "source": [
    "plt.figure(figsize=(8,6))\n",
    "plt.scatter([x[0] for x in X_train], [x[1] for x in X_train],\n",
    "              c=Y_train, cmap=colors, s=100)"
   ]
  },
  {
   "cell_type": "code",
   "execution_count": 108,
   "metadata": {},
   "outputs": [
    {
     "data": {
      "text/plain": [
       "(100, 2)"
      ]
     },
     "execution_count": 108,
     "metadata": {},
     "output_type": "execute_result"
    }
   ],
   "source": [
    "X_train.shape"
   ]
  },
  {
   "cell_type": "code",
   "execution_count": 109,
   "metadata": {},
   "outputs": [
    {
     "data": {
      "text/plain": [
       "1.0"
      ]
     },
     "execution_count": 109,
     "metadata": {},
     "output_type": "execute_result"
    }
   ],
   "source": [
    "clf.fit(X_train, Y_train)\n",
    "Y_pred = clf.predict(X_train)\n",
    "accuracy_score(Y_train, Y_pred)"
   ]
  },
  {
   "cell_type": "code",
   "execution_count": 110,
   "metadata": {},
   "outputs": [],
   "source": [
    "h = 0.01\n",
    "x_min, x_max = X_train[:, 0].min()-1, X_train[:, 0].max()+1\n",
    "y_min, y_max = X_train[:, 1].min()-1, X_train[:, 1].max()+1\n",
    "xx, yy = np.meshgrid(np.arange(x_min, x_max, h),\n",
    "                     np.arange(y_min, y_max, h))"
   ]
  },
  {
   "cell_type": "code",
   "execution_count": 111,
   "metadata": {},
   "outputs": [
    {
     "data": {
      "text/plain": [
       "<matplotlib.contour.QuadContourSet at 0x1a3316fd68>"
      ]
     },
     "execution_count": 111,
     "metadata": {},
     "output_type": "execute_result"
    },
    {
     "data": {
      "image/png": "[encoded data removed]",
      "text/plain": [
       "<matplotlib.figure.Figure at 0x1a303c0518>"
      ]
     },
     "metadata": {},
     "output_type": "display_data"
    }
   ],
   "source": [
    "Z = clf.predict(np.c_[xx.ravel(), yy.ravel()])\n",
    "Z = Z.reshape(xx.shape)\n",
    "plt.plot(X_train[Y_train == 0][:, 0], X_train[Y_train == 0][:, 1], 'ro')\n",
    "plt.plot(X_train[Y_train == 1][:, 0], X_train[Y_train == 1][:, 1], 'bo')\n",
    "plt.plot(X_train[Y_train == 2][:, 0], X_train[Y_train == 2][:, 1], 'yo')\n",
    "plt.contourf(xx, yy, Z, cmap=light_colors, alpha=0.8)"
   ]
  },
  {
   "cell_type": "code",
   "execution_count": 112,
   "metadata": {},
   "outputs": [
    {
     "data": {
      "text/plain": [
       "<matplotlib.contour.QuadContourSet at 0x1a33f35b38>"
      ]
     },
     "execution_count": 112,
     "metadata": {},
     "output_type": "execute_result"
    },
    {
     "data": {
      "image/png": "[encoded data removed]",
      "text/plain": [
       "<matplotlib.figure.Figure at 0x1a303c5fd0>"
      ]
     },
     "metadata": {},
     "output_type": "display_data"
    }
   ],
   "source": [
    "clf = DecisionTreeClassifier(random_state=42, max_depth = 1)\n",
    "clf.fit(X_train, Y_train)\n",
    "\n",
    "Z = clf.predict(np.c_[xx.ravel(), yy.ravel()])\n",
    "Z = Z.reshape(xx.shape)\n",
    "plt.plot(X_train[Y_train == 0][:, 0], X_train[Y_train == 0][:, 1], 'ro')\n",
    "plt.plot(X_train[Y_train == 1][:, 0], X_train[Y_train == 1][:, 1], 'bo')\n",
    "plt.plot(X_train[Y_train == 2][:, 0], X_train[Y_train == 2][:, 1], 'yo')\n",
    "plt.contourf(xx, yy, Z, cmap=light_colors, alpha=0.8)"
   ]
  },
  {
   "cell_type": "code",
   "execution_count": 113,
   "metadata": {},
   "outputs": [
    {
     "data": {
      "text/plain": [
       "<matplotlib.contour.QuadContourSet at 0x1a34e004a8>"
      ]
     },
     "execution_count": 113,
     "metadata": {},
     "output_type": "execute_result"
    },
    {
     "data": {
      "image/png": "[encoded data removed]",
      "text/plain": [
       "<matplotlib.figure.Figure at 0x1a2e642ac8>"
      ]
     },
     "metadata": {},
     "output_type": "display_data"
    }
   ],
   "source": [
    "clf = DecisionTreeClassifier(random_state=42, max_depth = 2)\n",
    "clf.fit(X_train, Y_train)\n",
    "\n",
    "Z = clf.predict(np.c_[xx.ravel(), yy.ravel()])\n",
    "Z = Z.reshape(xx.shape)\n",
    "plt.plot(X_train[Y_train == 0][:, 0], X_train[Y_train == 0][:, 1], 'ro')\n",
    "plt.plot(X_train[Y_train == 1][:, 0], X_train[Y_train == 1][:, 1], 'bo')\n",
    "plt.plot(X_train[Y_train == 2][:, 0], X_train[Y_train == 2][:, 1], 'yo')\n",
    "plt.contourf(xx, yy, Z, cmap=light_colors, alpha=0.8)"
   ]
  },
  {
   "cell_type": "code",
   "execution_count": 114,
   "metadata": {},
   "outputs": [
    {
     "data": {
      "text/plain": [
       "<matplotlib.contour.QuadContourSet at 0x1a35822fd0>"
      ]
     },
     "execution_count": 114,
     "metadata": {},
     "output_type": "execute_result"
    },
    {
     "data": {
      "image/png": "[encoded data removed]",
      "text/plain": [
       "<matplotlib.figure.Figure at 0x1a27d2c240>"
      ]
     },
     "metadata": {},
     "output_type": "display_data"
    }
   ],
   "source": [
    "clf = DecisionTreeClassifier(random_state=42, max_depth = 3)\n",
    "clf.fit(X_train, Y_train)\n",
    "\n",
    "Z = clf.predict(np.c_[xx.ravel(), yy.ravel()])\n",
    "Z = Z.reshape(xx.shape)\n",
    "plt.plot(X_train[Y_train == 0][:, 0], X_train[Y_train == 0][:, 1], 'ro')\n",
    "plt.plot(X_train[Y_train == 1][:, 0], X_train[Y_train == 1][:, 1], 'bo')\n",
    "plt.plot(X_train[Y_train == 2][:, 0], X_train[Y_train == 2][:, 1], 'yo')\n",
    "plt.contourf(xx, yy, Z, cmap=light_colors, alpha=0.8)"
   ]
  },
  {
   "cell_type": "code",
   "execution_count": 115,
   "metadata": {},
   "outputs": [
    {
     "data": {
      "text/plain": [
       "<matplotlib.contour.QuadContourSet at 0x1a365b9b70>"
      ]
     },
     "execution_count": 115,
     "metadata": {},
     "output_type": "execute_result"
    },
    {
     "data": {
      "image/png": "[encoded data removed]",
      "text/plain": [
       "<matplotlib.figure.Figure at 0x1a3574d438>"
      ]
     },
     "metadata": {},
     "output_type": "display_data"
    }
   ],
   "source": [
    "clf = DecisionTreeClassifier(random_state=42, min_samples_leaf = 5)\n",
    "clf.fit(X_train, Y_train)\n",
    "\n",
    "Z = clf.predict(np.c_[xx.ravel(), yy.ravel()])\n",
    "Z = Z.reshape(xx.shape)\n",
    "plt.plot(X_train[Y_train == 0][:, 0], X_train[Y_train == 0][:, 1], 'ro')\n",
    "plt.plot(X_train[Y_train == 1][:, 0], X_train[Y_train == 1][:, 1], 'bo')\n",
    "plt.plot(X_train[Y_train == 2][:, 0], X_train[Y_train == 2][:, 1], 'yo')\n",
    "plt.contourf(xx, yy, Z, cmap=light_colors, alpha=0.8)"
   ]
  },
  {
   "cell_type": "markdown",
   "metadata": {},
   "source": [
    "# Random Forest"
   ]
  },
  {
   "cell_type": "code",
   "execution_count": 125,
   "metadata": {},
   "outputs": [
    {
     "data": {
      "text/plain": [
       "<matplotlib.contour.QuadContourSet at 0x1a3d197438>"
      ]
     },
     "execution_count": 125,
     "metadata": {},
     "output_type": "execute_result"
    },
    {
     "data": {
      "image/png": "[encoded data removed]",
      "text/plain": [
       "<matplotlib.figure.Figure at 0x1a390f4668>"
      ]
     },
     "metadata": {},
     "output_type": "display_data"
    }
   ],
   "source": [
    "from sklearn.ensemble import RandomForestClassifier\n",
    "\n",
    "clf = RandomForestClassifier(n_estimators = 50, max_depth = 2, random_state = 1)\n",
    "clf.fit(X_train, Y_train)\n",
    "\n",
    "Z = clf.predict(np.c_[xx.ravel(), yy.ravel()])\n",
    "Z = Z.reshape(xx.shape)\n",
    "plt.plot(X_train[Y_train == 0][:, 0], X_train[Y_train == 0][:, 1], 'ro')\n",
    "plt.plot(X_train[Y_train == 1][:, 0], X_train[Y_train == 1][:, 1], 'bo')\n",
    "plt.plot(X_train[Y_train == 2][:, 0], X_train[Y_train == 2][:, 1], 'yo')\n",
    "plt.contourf(xx, yy, Z, cmap=light_colors, alpha=0.8)"
   ]
  },
  {
   "cell_type": "code",
   "execution_count": 118,
   "metadata": {},
   "outputs": [
    {
     "data": {
      "text/plain": [
       "<matplotlib.contour.QuadContourSet at 0x1a39184eb8>"
      ]
     },
     "execution_count": 118,
     "metadata": {},
     "output_type": "execute_result"
    },
    {
     "data": {
      "image/png": "[encoded data removed]",
      "text/plain": [
       "<matplotlib.figure.Figure at 0x1a3828b198>"
      ]
     },
     "metadata": {},
     "output_type": "display_data"
    }
   ],
   "source": [
    "clf = RandomForestClassifier(n_estimators = 50, max_depth = 10, random_state = 1)\n",
    "clf.fit(X_train, Y_train)\n",
    "\n",
    "Z = clf.predict(np.c_[xx.ravel(), yy.ravel()])\n",
    "Z = Z.reshape(xx.shape)\n",
    "plt.plot(X_train[Y_train == 0][:, 0], X_train[Y_train == 0][:, 1], 'ro')\n",
    "plt.plot(X_train[Y_train == 1][:, 0], X_train[Y_train == 1][:, 1], 'bo')\n",
    "plt.plot(X_train[Y_train == 2][:, 0], X_train[Y_train == 2][:, 1], 'yo')\n",
    "plt.contourf(xx, yy, Z, cmap=light_colors, alpha=0.8)"
   ]
  },
  {
   "cell_type": "markdown",
   "metadata": {},
   "source": [
    "# Gradient Boosting"
   ]
  },
  {
   "cell_type": "code",
   "execution_count": 120,
   "metadata": {},
   "outputs": [],
   "source": [
    "import xgboost as xgb"
   ]
  },
  {
   "cell_type": "code",
   "execution_count": 123,
   "metadata": {},
   "outputs": [],
   "source": [
    "gr_boost = xgb.XGBClassifier(n_estimators = 150, max_depth = 2, random_state = 1)"
   ]
  },
  {
   "cell_type": "code",
   "execution_count": 124,
   "metadata": {},
   "outputs": [
    {
     "name": "stderr",
     "output_type": "stream",
     "text": [
      "/anaconda3/lib/python3.6/site-packages/sklearn/preprocessing/label.py:151: DeprecationWarning: The truth value of an empty array is ambiguous. Returning False, but in future this will result in an error. Use `array.size > 0` to check that an array is not empty.\n",
      "  if diff:\n"
     ]
    },
    {
     "data": {
      "text/plain": [
       "<matplotlib.contour.QuadContourSet at 0x1a3d121dd8>"
      ]
     },
     "execution_count": 124,
     "metadata": {},
     "output_type": "execute_result"
    },
    {
     "data": {
      "image/png": "[encoded data removed]",
      "text/plain": [
       "<matplotlib.figure.Figure at 0x1a39f847f0>"
      ]
     },
     "metadata": {},
     "output_type": "display_data"
    }
   ],
   "source": [
    "gr_boost.fit(X_train, Y_train)\n",
    "\n",
    "Z = gr_boost.predict(np.c_[xx.ravel(), yy.ravel()])\n",
    "Z = Z.reshape(xx.shape)\n",
    "plt.plot(X_train[Y_train == 0][:, 0], X_train[Y_train == 0][:, 1], 'ro')\n",
    "plt.plot(X_train[Y_train == 1][:, 0], X_train[Y_train == 1][:, 1], 'bo')\n",
    "plt.plot(X_train[Y_train == 2][:, 0], X_train[Y_train == 2][:, 1], 'yo')\n",
    "plt.contourf(xx, yy, Z, cmap=light_colors, alpha=0.8)"
   ]
  },
  {
   "cell_type": "code",
   "execution_count": null,
   "metadata": {},
   "outputs": [],
   "source": []
  }
 ],
 "metadata": {
  "kernelspec": {
   "display_name": "Python 3 conda",
   "language": "python",
   "name": "python3"
  },
  "language_info": {
   "codemirror_mode": {
    "name": "ipython",
    "version": 3
   },
   "file_extension": ".py",
   "mimetype": "text/x-python",
   "name": "python",
   "nbconvert_exporter": "python",
   "pygments_lexer": "ipython3",
   "version": "3.6.4"
  }
 },
 "nbformat": 4,
 "nbformat_minor": 2
}
