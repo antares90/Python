{
 "cells": [
  {
   "cell_type": "code",
   "execution_count": 26,
   "metadata": {},
   "outputs": [],
   "source": [
    "import pandas as pd\n",
    "import matplotlib.pyplot as plt\n",
    "import numpy as np\n",
    "from sklearn.linear_model import LinearRegression\n",
    "\n",
    "#чтение файла\n",
    "df = pd.read_csv('train.csv') \n",
    "df.head()\n",
    "# dis = np.array(df['dis'])\n",
    "# Y = np.array(df['medv'])\n",
    "\n",
    "# df[['ID', 'crim', 'zn', 'indus', 'chas', 'nox', 'rm', 'age', 'dis', 'rad',\n",
    "#        'tax', 'ptratio', 'black', 'lstat']]\n",
    "x = np.array(df[['dis']])\n",
    "y = np.array(df['medv'])\n",
    "# df.sort_values(by='medv')\n"
   ]
  },
  {
   "cell_type": "code",
   "execution_count": 32,
   "metadata": {},
   "outputs": [],
   "source": [
    "#Задание гиперпараметров\n",
    "alpha = 0.000001\n",
    "n = 500"
   ]
  },
  {
   "cell_type": "code",
   "execution_count": 5,
   "metadata": {},
   "outputs": [
    {
     "name": "stdout",
     "output_type": "stream",
     "text": [
      "[0]\n"
     ]
    }
   ],
   "source": [
    "#задание W и b\n",
    "# W = np.random.randn(len(X))\n",
    "# b = np.random.randn(1)\n",
    "# W = np.zeros([0])\n",
    "W = np.array([0])\n",
    "b = np.array([0])\n",
    "print(W)"
   ]
  },
  {
   "cell_type": "code",
   "execution_count": 6,
   "metadata": {},
   "outputs": [],
   "source": [
    "def net_input(W, X, b):    \n",
    "    return np.dot(W, X) + b"
   ]
  },
  {
   "cell_type": "code",
   "execution_count": 7,
   "metadata": {},
   "outputs": [],
   "source": [
    "def cost_function_derivative_w(Y_hat, Y, X):\n",
    "    return 2 * np.sum((Y_hat - Y) * X) / Y.shape[0]"
   ]
  },
  {
   "cell_type": "code",
   "execution_count": 8,
   "metadata": {},
   "outputs": [],
   "source": [
    "def cost_function_derivative_b(Y_hat, Y):\n",
    "    return 2 * np.sum(Y_hat - Y) / Y.shape[0]"
   ]
  },
  {
   "cell_type": "code",
   "execution_count": 33,
   "metadata": {},
   "outputs": [
    {
     "name": "stdout",
     "output_type": "stream",
     "text": [
      "[4.27389822]\n",
      "[2.62552837]\n"
     ]
    }
   ],
   "source": [
    "\n",
    "for i in range(0, n):    \n",
    "#     Y_hat = np.array([net_input([W_single], [X_single], b)  for X_single in X])  \n",
    "    y_hat = np.array([net_input(W, [x_single], b) for x_single in x])    \n",
    "    W = W - alpha * cost_function_derivative_w(y_hat, y, x)\n",
    "    b = b - alpha * cost_function_derivative_b(y_hat, y)\n",
    "\n",
    "print(W)\n",
    "print(b)\n",
    "# Y_hat"
   ]
  },
  {
   "cell_type": "code",
   "execution_count": 35,
   "metadata": {},
   "outputs": [
    {
     "data": {
      "image/png": "[encoded data removed]",
      "text/plain": [
       "<Figure size 432x288 with 1 Axes>"
      ]
     },
     "metadata": {
      "needs_background": "light"
     },
     "output_type": "display_data"
    }
   ],
   "source": [
    "plt.plot(x, y, 'o')\n",
    "plt.plot(np.arange(0, 10), np.arange(0, 10) * W + b)\n",
    "plt.show()"
   ]
  }
 ],
 "metadata": {
  "kernelspec": {
   "display_name": "Python 3",
   "language": "python",
   "name": "python3"
  },
  "language_info": {
   "codemirror_mode": {
    "name": "ipython",
    "version": 3
   },
   "file_extension": ".py",
   "mimetype": "text/x-python",
   "name": "python",
   "nbconvert_exporter": "python",
   "pygments_lexer": "ipython3",
   "version": "3.7.0"
  }
 },
 "nbformat": 4,
 "nbformat_minor": 2
}
