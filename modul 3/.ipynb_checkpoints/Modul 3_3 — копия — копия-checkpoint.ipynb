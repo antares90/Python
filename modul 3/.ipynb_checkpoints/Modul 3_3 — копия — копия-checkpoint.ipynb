{
 "cells": [
  {
   "cell_type": "code",
   "execution_count": 112,
   "metadata": {},
   "outputs": [],
   "source": [
    "import pandas as pd\n",
    "import matplotlib.pyplot as plt\n",
    "import numpy as np\n",
    "from sklearn.linear_model import LinearRegression\n",
    "\n",
    "#чтение файла\n",
    "df = pd.read_csv('train.csv') \n",
    "# df.head()\n",
    "\n",
    "#формируем массив со вх.параметрами, влияющими на стоимость\n",
    "x = np.array(df[['ID', 'crim', 'indus', 'nox', 'rm', 'age', 'dis', 'rad',\n",
    "       'tax', 'ptratio', 'black', 'lstat']])\n",
    "\n",
    "# вектор с реальными ценами\n",
    "y = np.array(df['medv'])\n"
   ]
  },
  {
   "cell_type": "code",
   "execution_count": 104,
   "metadata": {},
   "outputs": [],
   "source": [
    "#Задание гиперпараметров\n",
    "alpha = 0.0000000001\n",
    "n = 200"
   ]
  },
  {
   "cell_type": "code",
   "execution_count": 114,
   "metadata": {},
   "outputs": [],
   "source": [
    "#задание W и b. Количество весов в векторе W соответствует количеству столбцов со вх. параметрами \n",
    "# (т.е. на каждый параметр свой вес)\n",
    "W = np.zeros([len(x.T)])\n",
    "# W = np.array([0])\n",
    "b = np.array([0])\n"
   ]
  },
  {
   "cell_type": "code",
   "execution_count": 115,
   "metadata": {},
   "outputs": [],
   "source": [
    "def net_input(W, X, b):    \n",
    "    return np.dot(W, X) + b"
   ]
  },
  {
   "cell_type": "code",
   "execution_count": 116,
   "metadata": {},
   "outputs": [],
   "source": [
    "def cost_function_derivative_w(Y_hat, Y, X):\n",
    "    return 2 * np.sum((Y_hat - Y) * X) / Y.shape[0]"
   ]
  },
  {
   "cell_type": "code",
   "execution_count": 117,
   "metadata": {},
   "outputs": [],
   "source": [
    "def cost_function_derivative_b(Y_hat, Y):\n",
    "    return 2 * np.sum(Y_hat - Y) / Y.shape[0]"
   ]
  },
  {
   "cell_type": "code",
   "execution_count": null,
   "metadata": {},
   "outputs": [],
   "source": [
    "for i in range(0, n):\n",
    "    for i in range(W.shape[0]): \n",
    "    #     y_hat = np.array([net_input(W[i], [x_single], b) for x_single in x.T[i])   \n",
    "        y_hat = np.array([net_input(W[i], [x_single], b) for x_single in x.T[i]])\n",
    "        W = W - alpha * cost_function_derivative_w(y_hat, y.reshape(-1, 1), x.T[i])\n",
    "        b = b - alpha * cost_function_derivative_b(y_hat, y.reshape(-1, 1))\n",
    "print(W)\n",
    "print(b)\n"
   ]
  }
 ],
 "metadata": {
  "kernelspec": {
   "display_name": "Python 3",
   "language": "python",
   "name": "python3"
  },
  "language_info": {
   "codemirror_mode": {
    "name": "ipython",
    "version": 3
   },
   "file_extension": ".py",
   "mimetype": "text/x-python",
   "name": "python",
   "nbconvert_exporter": "python",
   "pygments_lexer": "ipython3",
   "version": "3.7.0"
  }
 },
 "nbformat": 4,
 "nbformat_minor": 2
}
