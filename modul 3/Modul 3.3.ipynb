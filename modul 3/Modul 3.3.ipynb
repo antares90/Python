{
 "cells": [
  {
   "cell_type": "code",
   "execution_count": 190,
   "metadata": {},
   "outputs": [
    {
     "name": "stdout",
     "output_type": "stream",
     "text": [
      "(11, 333)\n",
      "(1, 333)\n"
     ]
    },
    {
     "data": {
      "text/plain": [
       "array([[24. , 21.6, 33.4, 36.2, 22.9, 15. , 18.9, 21.7, 20.4, 18.2, 19.9,\n",
       "        23.1, 20.2, 13.6, 19.6, 15.2, 14.5, 14.8, 12.7, 14.5, 13.5, 24.7,\n",
       "        30.8, 34.9, 25.3, 24.7, 21.2, 19.3, 20. , 16.6, 19.4, 19.7, 20.5,\n",
       "        23.4, 18.9, 35.4, 24.7, 31.6, 23.3, 18.7, 16. , 25. , 33. , 23.5,\n",
       "        19.4, 22. , 17.4, 24.2, 22.8, 23.4, 24.1, 21.4, 20. , 20.8, 28. ,\n",
       "        23.9, 22.9, 23.9, 26.6, 22.5, 22.2, 23.6, 28.7, 22.6, 25. , 20.6,\n",
       "        21.4, 27.5, 26.5, 18.6, 19.3, 19.5, 20.4, 19.8, 19.4, 22.8, 18.5,\n",
       "        21.2, 19.2, 20.4, 19.3, 22. , 20.3, 20.5, 17.3, 18.8, 15.7, 16.2,\n",
       "        18. , 19.6, 18.4, 15.6, 17.4, 17.1, 13.3, 17.8, 14.4, 13.4, 13.8,\n",
       "        14.6, 17.8, 15.4, 21.5, 19.4, 17. , 13.1, 24.3, 23.3, 27. , 50. ,\n",
       "        50. , 22.7, 25. , 50. , 23.8, 22.3, 17.4, 19.1, 23.1, 23.6, 22.6,\n",
       "        29.4, 23.2, 24.6, 29.9, 37.2, 39.8, 36.2, 37.9, 32.5, 50. , 32. ,\n",
       "        34.9, 37. , 30.5, 36.4, 31.1, 29.1, 30.3, 32.9, 24.1, 48.5, 50. ,\n",
       "        22.6, 24.4, 24.4, 19.3, 28.1, 23.7, 23.3, 21.7, 27.5, 30.1, 44.8,\n",
       "        50. , 37.6, 31.6, 31.5, 24.3, 41.7, 48.3, 29. , 24. , 25.1, 22. ,\n",
       "        22.2, 23.7, 17.6, 24.3, 24.5, 26.2, 24.4, 24.8, 42.8, 33.8, 43.1,\n",
       "        48.8, 31. , 36.5, 22.8, 30.7, 43.5, 25.2, 24.4, 35.2, 32.4, 35.1,\n",
       "        35.4, 46. , 50. , 32.2, 22. , 20.1, 22.3, 28.5, 27.9, 23.9, 27.1,\n",
       "        20.3, 22. , 26.4, 33.1, 36.1, 28.4, 33.4, 22.8, 20.3, 16.1, 22.1,\n",
       "        19.4, 16.2, 17.8, 19.8, 23.1, 23.8, 25. , 24.6, 22.2, 19.3, 19.8,\n",
       "        22.2, 20.7, 19.5, 20.6, 19. , 18.7, 32.7, 16.5, 23.9, 31.2, 23.1,\n",
       "        24.5, 26.6, 18.6, 17.8, 21.7, 22.7, 22.6, 25. , 20.8, 27.5, 21.9,\n",
       "        23.1, 50. , 50. , 50. , 50. , 13.8, 13.8, 13.9, 13.3, 11.3, 12.3,\n",
       "         8.8, 10.5,  7.4, 11.5, 23.2,  9.7, 12.7, 12.5,  5. ,  5.6,  7.2,\n",
       "         8.3, 27.9, 17.2, 16.3,  7. ,  7.2, 10.4,  8.8,  8.4, 11.7,  8.3,\n",
       "        10.9, 11. ,  9.5, 14.1, 16.1, 14.3, 11.7,  8.7, 12.8, 10.5, 17.1,\n",
       "        18.4, 15.4, 10.8, 11.8, 12.6, 14.1, 15.2, 16.1, 17.8, 14.1, 13.5,\n",
       "        14.9, 20. , 16.4, 17.7, 19.5, 20.2, 21.4, 19.9, 19. , 19.1, 19.1,\n",
       "        20.1, 19.6, 23.2, 13.8, 16.7, 12. , 14.6, 21.4, 23. , 23.7, 21.8,\n",
       "        20.6, 19.1, 20.6, 15.2,  8.1, 13.6, 20.1, 21.8, 18.3, 17.5, 22.4,\n",
       "        20.6, 23.9, 11.9]])"
      ]
     },
     "execution_count": 190,
     "metadata": {},
     "output_type": "execute_result"
    }
   ],
   "source": [
    "import pandas as pd\n",
    "import matplotlib.pyplot as plt\n",
    "import numpy as np\n",
    "from sklearn.linear_model import LinearRegression\n",
    "\n",
    "#чтение файла\n",
    "df = pd.read_csv('train.csv') \n",
    "# df.head()\n",
    "\n",
    "#формируем массив со вх.параметрами, влияющими на стоимость\n",
    "x = np.array(df[['crim', 'indus', 'nox', 'rm', 'age', 'dis', 'rad',\n",
    "       'tax', 'ptratio', 'black', 'lstat']].T)\n",
    "\n",
    "# вектор с реальными ценами\n",
    "y = np.array(df['medv'])\n",
    "y = np.reshape(y, (1, 333))\n",
    "print(x.shape)\n",
    "print(y.shape)\n",
    "y\n"
   ]
  },
  {
   "cell_type": "code",
   "execution_count": 103,
   "metadata": {},
   "outputs": [],
   "source": [
    "def net_input(W, X, b):    \n",
    "    return np.dot(W, X) + b"
   ]
  },
  {
   "cell_type": "code",
   "execution_count": 104,
   "metadata": {},
   "outputs": [],
   "source": [
    "def cost_function_derivative_w(Y_hat, Y, X):\n",
    "    return 2 * np.sum((Y_hat - Y) * X) / Y.shape[0]"
   ]
  },
  {
   "cell_type": "code",
   "execution_count": 105,
   "metadata": {},
   "outputs": [],
   "source": [
    "def cost_function_derivative_b(Y_hat, Y):\n",
    "    return 2 * np.sum(Y_hat - Y) / Y.shape[0]"
   ]
  },
  {
   "cell_type": "code",
   "execution_count": 173,
   "metadata": {},
   "outputs": [],
   "source": [
    "  def cost_function(Y_hat, Y):\n",
    "    return np.sum(np.square(Y_hat - Y)) / Y.shape[0]"
   ]
  },
  {
   "cell_type": "code",
   "execution_count": 215,
   "metadata": {},
   "outputs": [],
   "source": [
    "#Задание гиперпараметров\n",
    "alpha = 0.000000001\n",
    "n = 200"
   ]
  },
  {
   "cell_type": "code",
   "execution_count": 216,
   "metadata": {},
   "outputs": [
    {
     "name": "stdout",
     "output_type": "stream",
     "text": [
      "(11, 333)\n",
      "(1, 333)\n",
      "(1, 11)\n"
     ]
    }
   ],
   "source": [
    "#задание W и b. Количество весов в векторе W соответствует количеству столбцов со вх. параметрами \n",
    "# (т.е. на каждый параметр свой вес)\n",
    "# W = np.zeros([len(x.T)])\n",
    "# W = np.array([0])\n",
    "b = np.array([0])\n",
    "# np.seterr(invalid='ignore')\n",
    "W = np.zeros((1, x.shape[0]))\n",
    "print(x.shape)\n",
    "print(y.shape)\n",
    "print(W.shape)\n",
    "\n"
   ]
  },
  {
   "cell_type": "code",
   "execution_count": 218,
   "metadata": {},
   "outputs": [
    {
     "name": "stdout",
     "output_type": "stream",
     "text": [
      "[[0.02339112 0.02339112 0.02339112 0.02339112 0.02339112 0.02339112\n",
      "  0.02339112 0.02339112 0.02339112 0.02339112 0.02339112]]\n",
      "[0.00046488]\n"
     ]
    }
   ],
   "source": [
    "for i in range(0, n):\n",
    "#     print('{} i:'.format(i))\n",
    "#     for j in range(W.shape[1]): \n",
    "#         print('{} j:'.format(j))\n",
    "#         y_hat = np.array([net_input(W[0, j], [x_single], b) for x_single in x[j, i]])\n",
    "#         W = W - alpha * cost_function_derivative_w(y_hat, y.reshape(-1, 1), x[j, i])\n",
    "#         b = b - alpha * cost_function_derivative_b(y_hat, y.reshape(-1, 1))\n",
    "    y_hat = np.array([net_input(W, x, b)])\n",
    "#     print('cost_func: ', cost_function(y_hat, y))\n",
    "    W = W - alpha * cost_function_derivative_w(y_hat, y, x)\n",
    "    b = b - alpha * cost_function_derivative_b(y_hat, y)\n",
    "print(W)\n",
    "print(b)\n"
   ]
  },
  {
   "cell_type": "code",
   "execution_count": null,
   "metadata": {},
   "outputs": [],
   "source": []
  }
 ],
 "metadata": {
  "kernelspec": {
   "display_name": "Python 3",
   "language": "python",
   "name": "python3"
  },
  "language_info": {
   "codemirror_mode": {
    "name": "ipython",
    "version": 3
   },
   "file_extension": ".py",
   "mimetype": "text/x-python",
   "name": "python",
   "nbconvert_exporter": "python",
   "pygments_lexer": "ipython3",
   "version": "3.7.0"
  }
 },
 "nbformat": 4,
 "nbformat_minor": 2
}
