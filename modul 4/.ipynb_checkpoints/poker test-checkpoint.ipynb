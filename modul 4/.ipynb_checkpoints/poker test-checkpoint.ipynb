{
 "cells": [
  {
   "cell_type": "code",
   "execution_count": 1,
   "metadata": {},
   "outputs": [],
   "source": [
    "import numpy as np\n",
    "import pandas as pd\n",
    "import matplotlib.pyplot as plt\n",
    "df = pd.read_csv('poker-hand-training.csv').head(300)\n",
    "\n",
    "# df.tail(5)"
   ]
  },
  {
   "cell_type": "code",
   "execution_count": 2,
   "metadata": {},
   "outputs": [
    {
     "name": "stdout",
     "output_type": "stream",
     "text": [
      "(10, 300)\n",
      "(300, 1)\n"
     ]
    }
   ],
   "source": [
    "X = np.array(df[['1', '10', '1.1', '11', '1.2', '13', '1.3', '12', '1.4','1.5']].T)\n",
    "# X = np.array(df[['1', '10']].T)\n",
    "Y = np.array(df[['9']])\n",
    "print(X.shape)\n",
    "print(Y.shape)"
   ]
  },
  {
   "cell_type": "code",
   "execution_count": 3,
   "metadata": {},
   "outputs": [],
   "source": [
    "# x_10 = df[df['9'] == 0]['1']\n",
    "# x_11 = df[df['9'] == 0]['10']\n",
    "# plt.plot(x_10, x_11, 'ro')\n",
    "\n",
    "# x_20 = df[df['9'] == 5]['1.4']\n",
    "# x_21 = df[df['9'] == 5]['1.5']\n",
    "# plt.plot(x_20, x_21, 'bx')\n",
    "# x_21.shape\n",
    "# plt.show()"
   ]
  },
  {
   "cell_type": "code",
   "execution_count": null,
   "metadata": {},
   "outputs": [],
   "source": []
  },
  {
   "cell_type": "code",
   "execution_count": 4,
   "metadata": {},
   "outputs": [],
   "source": [
    "def net_input(W, X, b):\n",
    "    return np.dot(W, X) + b"
   ]
  },
  {
   "cell_type": "code",
   "execution_count": 5,
   "metadata": {},
   "outputs": [],
   "source": [
    "def sigmoid(Z):\n",
    "    return 1.0/(1 + np.exp(-Z))"
   ]
  },
  {
   "cell_type": "code",
   "execution_count": 6,
   "metadata": {},
   "outputs": [],
   "source": [
    "# def predict(s):\n",
    "#     if s > 0.5:\n",
    "#         return 1\n",
    "#     else:\n",
    "#         return 0"
   ]
  },
  {
   "cell_type": "code",
   "execution_count": 7,
   "metadata": {},
   "outputs": [],
   "source": [
    "def cost_function(W, X, b, Y):\n",
    "    return -np.sum(Y * np.log(sigmoid(net_input(W, X, b))) + (1 - Y) * np.log(1 - sigmoid(net_input(W, X, b)))) / X.shape[1]"
   ]
  },
  {
   "cell_type": "code",
   "execution_count": 8,
   "metadata": {},
   "outputs": [],
   "source": [
    "def cost_function_derivative_w(W, X, b, Y):\n",
    "    return np.dot(sigmoid(net_input(W, X, b)) - Y.T, X.T) / X.shape[1]"
   ]
  },
  {
   "cell_type": "code",
   "execution_count": 9,
   "metadata": {},
   "outputs": [],
   "source": [
    "def cost_function_derivative_b(W, X, b, Y):\n",
    "    return np.sum(sigmoid(net_input(W, X, b)) - Y.T) / X.shape[1]"
   ]
  },
  {
   "cell_type": "code",
   "execution_count": 10,
   "metadata": {},
   "outputs": [],
   "source": [
    "def accuracy(Y_hat, Y):\n",
    "    return np.sum(Y_hat == Y) / len(Y)"
   ]
  },
  {
   "cell_type": "code",
   "execution_count": 61,
   "metadata": {},
   "outputs": [],
   "source": [
    "# debug\n",
    "# print(X.shape)\n",
    "# print(Y.shape)\n",
    "# W = np.zeros((1, X.shape[0]))\n",
    "# b = 0\n",
    "# print(net_input(W, X, b).shape)\n",
    "# print((sigmoid(net_input(W, X, b))).shape)\n",
    "# print((sigmoid(net_input(W, X, b)) - Y.T).shape)\n",
    "# print((np.dot(sigmoid(net_input(W, X, b)) - Y.T, X.T)).shape)"
   ]
  },
  {
   "cell_type": "code",
   "execution_count": 81,
   "metadata": {},
   "outputs": [
    {
     "name": "stdout",
     "output_type": "stream",
     "text": [
      "cost_f:  189.96436285569226\n",
      "Y_pred:  [[0.99086189]\n",
      " [0.96503217]\n",
      " [0.99384031]\n",
      " [0.99257298]\n",
      " [0.72930869]\n",
      " [0.98027111]\n",
      " [0.73007675]\n",
      " [0.87058423]\n",
      " [0.82747306]\n",
      " [0.60293257]\n",
      " [0.41617582]\n",
      " [0.72152649]\n",
      " [0.39091399]\n",
      " [0.91797824]\n",
      " [0.91458116]\n",
      " [0.80061539]\n",
      " [0.95327396]\n",
      " [0.92558017]\n",
      " [0.95925151]\n",
      " [0.93789871]\n",
      " [0.85543818]\n",
      " [0.87124552]\n",
      " [0.99596979]\n",
      " [0.72018522]\n",
      " [0.89180391]\n",
      " [0.96811133]\n",
      " [0.80633691]\n",
      " [0.90613328]\n",
      " [0.42814718]\n",
      " [0.87818533]\n",
      " [0.9442881 ]\n",
      " [0.73594483]\n",
      " [0.86812903]\n",
      " [0.73323191]\n",
      " [0.7206392 ]\n",
      " [0.80352454]\n",
      " [0.58059282]\n",
      " [0.96240451]\n",
      " [0.92813376]\n",
      " [0.96941839]\n",
      " [0.91452181]\n",
      " [0.87101685]\n",
      " [0.24445018]\n",
      " [0.96404722]\n",
      " [0.98327158]\n",
      " [0.68097588]\n",
      " [0.77274203]\n",
      " [0.9932106 ]\n",
      " [0.57667864]\n",
      " [0.78806197]\n",
      " [0.9243709 ]\n",
      " [0.87824783]\n",
      " [0.97962161]\n",
      " [0.97601495]\n",
      " [0.64478341]\n",
      " [0.95601432]\n",
      " [0.69479424]\n",
      " [0.97911514]\n",
      " [0.98486944]\n",
      " [0.91577807]\n",
      " [0.2171615 ]\n",
      " [0.92526258]\n",
      " [0.93277709]\n",
      " [0.97662398]\n",
      " [0.37043566]\n",
      " [0.48815336]\n",
      " [0.48820896]\n",
      " [0.66997445]\n",
      " [0.95194833]\n",
      " [0.73422406]\n",
      " [0.96569076]\n",
      " [0.84956385]\n",
      " [0.62120654]\n",
      " [0.99573286]\n",
      " [0.99371436]\n",
      " [0.98932147]\n",
      " [0.93087347]\n",
      " [0.83156223]\n",
      " [0.94772461]\n",
      " [0.96329723]\n",
      " [0.97471321]\n",
      " [0.8316139 ]\n",
      " [0.76294112]\n",
      " [0.96335213]\n",
      " [0.55075963]\n",
      " [0.88703161]\n",
      " [0.5420874 ]\n",
      " [0.99635433]\n",
      " [0.8715679 ]\n",
      " [0.96010856]\n",
      " [0.89009583]\n",
      " [0.894961  ]\n",
      " [0.99379643]\n",
      " [0.97719735]\n",
      " [0.97772255]\n",
      " [0.97716738]\n",
      " [0.84944212]\n",
      " [0.79518408]\n",
      " [0.76198716]\n",
      " [0.89683932]\n",
      " [0.76910262]\n",
      " [0.98312011]\n",
      " [0.48886308]\n",
      " [0.98831637]\n",
      " [0.98028606]\n",
      " [0.89625789]\n",
      " [0.70006635]\n",
      " [0.5802817 ]\n",
      " [0.60219886]\n",
      " [0.97766355]\n",
      " [0.99334713]\n",
      " [0.99427546]\n",
      " [0.56090483]\n",
      " [0.96094228]\n",
      " [0.32600503]\n",
      " [0.97900769]\n",
      " [0.82963641]\n",
      " [0.744243  ]\n",
      " [0.92997739]\n",
      " [0.73130148]\n",
      " [0.94839353]\n",
      " [0.90903056]\n",
      " [0.63735115]\n",
      " [0.99557334]\n",
      " [0.85840191]\n",
      " [0.88360836]\n",
      " [0.85412904]\n",
      " [0.96711922]\n",
      " [0.9457344 ]\n",
      " [0.96669949]\n",
      " [0.34374973]\n",
      " [0.88032946]\n",
      " [0.88827387]\n",
      " [0.89220438]\n",
      " [0.45555098]\n",
      " [0.27816245]\n",
      " [0.84575587]\n",
      " [0.97570094]\n",
      " [0.58328714]\n",
      " [0.87737927]\n",
      " [0.863018  ]\n",
      " [0.85121838]\n",
      " [0.30105975]\n",
      " [0.87785869]\n",
      " [0.95647098]\n",
      " [0.81827336]\n",
      " [0.7698736 ]\n",
      " [0.95861189]\n",
      " [0.32500815]\n",
      " [0.92890609]\n",
      " [0.98039798]\n",
      " [0.96022488]\n",
      " [0.80735418]\n",
      " [0.8108542 ]\n",
      " [0.53430498]\n",
      " [0.90217505]\n",
      " [0.70186487]\n",
      " [0.862485  ]\n",
      " [0.84162953]\n",
      " [0.89091349]\n",
      " [0.97577108]\n",
      " [0.92408326]\n",
      " [0.97727193]\n",
      " [0.9863126 ]\n",
      " [0.88572747]\n",
      " [0.72459905]\n",
      " [0.64278794]\n",
      " [0.98390415]\n",
      " [0.98946808]\n",
      " [0.67401359]\n",
      " [0.87887212]\n",
      " [0.96375533]\n",
      " [0.90877012]\n",
      " [0.89442632]\n",
      " [0.75549656]\n",
      " [0.95199179]\n",
      " [0.98141963]\n",
      " [0.54570831]\n",
      " [0.9127156 ]\n",
      " [0.89287735]\n",
      " [0.98106381]\n",
      " [0.63151158]\n",
      " [0.94241279]\n",
      " [0.92689797]\n",
      " [0.27315111]\n",
      " [0.65742066]\n",
      " [0.38501571]\n",
      " [0.89765437]\n",
      " [0.86419106]\n",
      " [0.91405009]\n",
      " [0.86100535]\n",
      " [0.60681305]\n",
      " [0.83613031]\n",
      " [0.99126375]\n",
      " [0.91763301]\n",
      " [0.6301446 ]\n",
      " [0.95122485]\n",
      " [0.50394498]\n",
      " [0.72537279]\n",
      " [0.88182461]\n",
      " [0.84045231]\n",
      " [0.81507016]\n",
      " [0.94223365]\n",
      " [0.93651164]\n",
      " [0.94940775]\n",
      " [0.54947188]\n",
      " [0.70666987]\n",
      " [0.9882263 ]\n",
      " [0.91987015]\n",
      " [0.9914397 ]\n",
      " [0.97368733]\n",
      " [0.97444645]\n",
      " [0.63849048]\n",
      " [0.92266847]\n",
      " [0.82700485]\n",
      " [0.92836971]\n",
      " [0.9981371 ]\n",
      " [0.98563135]\n",
      " [0.87387819]\n",
      " [0.99041098]\n",
      " [0.78183353]\n",
      " [0.87551828]\n",
      " [0.79761018]\n",
      " [0.98436358]\n",
      " [0.98881193]\n",
      " [0.8958942 ]\n",
      " [0.77863293]\n",
      " [0.70959642]\n",
      " [0.98106551]\n",
      " [0.91308214]\n",
      " [0.35432155]\n",
      " [0.65193605]\n",
      " [0.89900595]\n",
      " [0.99401807]\n",
      " [0.53145793]\n",
      " [0.4932885 ]\n",
      " [0.87585198]\n",
      " [0.988884  ]\n",
      " [0.50538719]\n",
      " [0.68609774]\n",
      " [0.98576509]\n",
      " [0.43778178]\n",
      " [0.62480737]\n",
      " [0.75292631]\n",
      " [0.9822973 ]\n",
      " [0.98433657]\n",
      " [0.98089395]\n",
      " [0.97314427]\n",
      " [0.97391174]\n",
      " [0.45413262]\n",
      " [0.8311109 ]\n",
      " [0.97834143]\n",
      " [0.77516019]\n",
      " [0.71446792]\n",
      " [0.88218482]\n",
      " [0.95174491]\n",
      " [0.76103485]\n",
      " [0.97833065]\n",
      " [0.7096046 ]\n",
      " [0.90343785]\n",
      " [0.92785753]\n",
      " [0.63383324]\n",
      " [0.99046526]\n",
      " [0.61726337]\n",
      " [0.71034798]\n",
      " [0.78412715]\n",
      " [0.9578154 ]\n",
      " [0.52085662]\n",
      " [0.93885069]\n",
      " [0.85660879]\n",
      " [0.64154952]\n",
      " [0.97525653]\n",
      " [0.78287788]\n",
      " [0.72872339]\n",
      " [0.89604537]\n",
      " [0.99364772]\n",
      " [0.87599227]\n",
      " [0.80713371]\n",
      " [0.98423801]\n",
      " [0.48130472]\n",
      " [0.97433718]\n",
      " [0.97754732]\n",
      " [0.79578644]\n",
      " [0.53696384]\n",
      " [0.98382195]\n",
      " [0.78791705]\n",
      " [0.83420074]\n",
      " [0.44183648]\n",
      " [0.24956202]\n",
      " [0.7613738 ]\n",
      " [0.6749144 ]\n",
      " [0.961888  ]\n",
      " [0.97536651]\n",
      " [0.9527613 ]\n",
      " [0.950541  ]\n",
      " [0.98679246]\n",
      " [0.91849151]\n",
      " [0.97380701]\n",
      " [0.97465907]\n",
      " [0.97174851]]\n"
     ]
    }
   ],
   "source": [
    "\n",
    "W = np.zeros((1, X.shape[0]))\n",
    "b = 0\n",
    "\n",
    "NUM_ITERATIONS = 1000\n",
    "LEARNING_RATE = 10e-3\n",
    "\n",
    "for i in range(NUM_ITERATIONS):\n",
    "#     print('{} step'.format(i))\n",
    "#     print('cost_f: ', cost_function(W, X, b, Y))\n",
    "    W = W - LEARNING_RATE * cost_function_derivative_w(W, X, b, Y)\n",
    "    b = b - LEARNING_RATE * cost_function_derivative_b(W, X, b, Y)\n",
    "    Y_pred = np.array([sigmoid(net_input(W, x, b)) for x in X.T])\n",
    "#     print('Y_pred', Y_pred)\n",
    "#     print('Y', Y)\n",
    "#     Y_pred = np.array([1 if sigmoid(net_input(W, x, b)) > 0.5 else 0 for x in X.T])\n",
    "print('cost_f: ', cost_function(W, X, b, Y))\n",
    "print('Y_pred: ', Y_pred)\n",
    "\n",
    "# print('Accuracy: {}'.format(accuracy(Y_pred, Y)))\n",
    "    \n",
    "# print(sigmoid(net_input(W, X, b)))"
   ]
  },
  {
   "cell_type": "code",
   "execution_count": 63,
   "metadata": {},
   "outputs": [
    {
     "data": {
      "text/plain": [
       "(300, 1)"
      ]
     },
     "execution_count": 63,
     "metadata": {},
     "output_type": "execute_result"
    }
   ],
   "source": [
    "Y_pred.shape\n"
   ]
  },
  {
   "cell_type": "code",
   "execution_count": 12,
   "metadata": {},
   "outputs": [],
   "source": [
    "from sklearn.linear_model import LogisticRegression"
   ]
  },
  {
   "cell_type": "code",
   "execution_count": 13,
   "metadata": {},
   "outputs": [
    {
     "data": {
      "text/plain": [
       "LogisticRegression(C=1.0, class_weight=None, dual=False, fit_intercept=True,\n",
       "          intercept_scaling=1, max_iter=100, multi_class='ovr', n_jobs=1,\n",
       "          penalty='l2', random_state=None, solver='liblinear', tol=0.0001,\n",
       "          verbose=0, warm_start=False)"
      ]
     },
     "execution_count": 13,
     "metadata": {},
     "output_type": "execute_result"
    }
   ],
   "source": [
    "clf = LogisticRegression()\n",
    "clf.fit(X.T, Y.T.ravel())"
   ]
  },
  {
   "cell_type": "code",
   "execution_count": 14,
   "metadata": {
    "scrolled": true
   },
   "outputs": [
    {
     "data": {
      "text/plain": [
       "array([[ 2, 11,  2, ..., 12,  2,  1],\n",
       "       [ 3, 12,  3, ..., 10,  3,  1],\n",
       "       [ 4, 10,  4, ..., 13,  4, 12],\n",
       "       ...,\n",
       "       [ 1,  2,  2, ...,  2,  4,  5],\n",
       "       [ 2,  8,  4, ...,  5,  4,  2],\n",
       "       [ 1, 13,  3, ...,  9,  4, 12]], dtype=int64)"
      ]
     },
     "execution_count": 14,
     "metadata": {},
     "output_type": "execute_result"
    }
   ],
   "source": [
    "X.T"
   ]
  },
  {
   "cell_type": "code",
   "execution_count": 16,
   "metadata": {},
   "outputs": [],
   "source": [
    "y_pred = clf.predict([[500, 6.5, 3,4,5,6,7,8,9,10]])"
   ]
  },
  {
   "cell_type": "code",
   "execution_count": 19,
   "metadata": {},
   "outputs": [
    {
     "name": "stdout",
     "output_type": "stream",
     "text": [
      "[5]\n"
     ]
    }
   ],
   "source": [
    "print(y_pred)"
   ]
  }
 ],
 "metadata": {
  "kernelspec": {
   "display_name": "Python 3",
   "language": "python",
   "name": "python3"
  },
  "language_info": {
   "codemirror_mode": {
    "name": "ipython",
    "version": 3
   },
   "file_extension": ".py",
   "mimetype": "text/x-python",
   "name": "python",
   "nbconvert_exporter": "python",
   "pygments_lexer": "ipython3",
   "version": "3.7.0"
  }
 },
 "nbformat": 4,
 "nbformat_minor": 2
}
