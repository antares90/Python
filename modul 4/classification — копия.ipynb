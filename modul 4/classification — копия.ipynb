{
 "cells": [
  {
   "cell_type": "markdown",
   "metadata": {},
   "source": [
    "# Classification"
   ]
  },
  {
   "cell_type": "code",
   "execution_count": null,
   "metadata": {},
   "outputs": [],
   "source": [
    "import numpy as np\n",
    "import matplotlib.pyplot as plt\n",
    "import pandas as pd"
   ]
  },
  {
   "cell_type": "markdown",
   "metadata": {},
   "source": [
    "## Загрузка данных"
   ]
  },
  {
   "cell_type": "code",
   "execution_count": 5,
   "metadata": {},
   "outputs": [],
   "source": [
    "df = pd.read_csv('iris.csv')"
   ]
  },
  {
   "cell_type": "code",
   "execution_count": 6,
   "metadata": {},
   "outputs": [],
   "source": [
    "# оставляем только два вида ирисов для бинарной классификации (изначально было три)\n",
    "df = df[df['species'] != 'virginica']"
   ]
  },
  {
   "cell_type": "code",
   "execution_count": 7,
   "metadata": {
    "scrolled": true
   },
   "outputs": [
    {
     "data": {
      "text/html": [
       "<div>\n",
       "<style scoped>\n",
       "    .dataframe tbody tr th:only-of-type {\n",
       "        vertical-align: middle;\n",
       "    }\n",
       "\n",
       "    .dataframe tbody tr th {\n",
       "        vertical-align: top;\n",
       "    }\n",
       "\n",
       "    .dataframe thead th {\n",
       "        text-align: right;\n",
       "    }\n",
       "</style>\n",
       "<table border=\"1\" class=\"dataframe\">\n",
       "  <thead>\n",
       "    <tr style=\"text-align: right;\">\n",
       "      <th></th>\n",
       "      <th>sepal_length</th>\n",
       "      <th>sepal_width</th>\n",
       "      <th>petal_length</th>\n",
       "      <th>petal_width</th>\n",
       "      <th>species</th>\n",
       "    </tr>\n",
       "  </thead>\n",
       "  <tbody>\n",
       "    <tr>\n",
       "      <th>0</th>\n",
       "      <td>5.1</td>\n",
       "      <td>3.5</td>\n",
       "      <td>1.4</td>\n",
       "      <td>0.2</td>\n",
       "      <td>setosa</td>\n",
       "    </tr>\n",
       "    <tr>\n",
       "      <th>1</th>\n",
       "      <td>4.9</td>\n",
       "      <td>3.0</td>\n",
       "      <td>1.4</td>\n",
       "      <td>0.2</td>\n",
       "      <td>setosa</td>\n",
       "    </tr>\n",
       "    <tr>\n",
       "      <th>2</th>\n",
       "      <td>4.7</td>\n",
       "      <td>3.2</td>\n",
       "      <td>1.3</td>\n",
       "      <td>0.2</td>\n",
       "      <td>setosa</td>\n",
       "    </tr>\n",
       "    <tr>\n",
       "      <th>3</th>\n",
       "      <td>4.6</td>\n",
       "      <td>3.1</td>\n",
       "      <td>1.5</td>\n",
       "      <td>0.2</td>\n",
       "      <td>setosa</td>\n",
       "    </tr>\n",
       "    <tr>\n",
       "      <th>4</th>\n",
       "      <td>5.0</td>\n",
       "      <td>3.6</td>\n",
       "      <td>1.4</td>\n",
       "      <td>0.2</td>\n",
       "      <td>setosa</td>\n",
       "    </tr>\n",
       "  </tbody>\n",
       "</table>\n",
       "</div>"
      ],
      "text/plain": [
       "   sepal_length  sepal_width  petal_length  petal_width species\n",
       "0           5.1          3.5           1.4          0.2  setosa\n",
       "1           4.9          3.0           1.4          0.2  setosa\n",
       "2           4.7          3.2           1.3          0.2  setosa\n",
       "3           4.6          3.1           1.5          0.2  setosa\n",
       "4           5.0          3.6           1.4          0.2  setosa"
      ]
     },
     "execution_count": 7,
     "metadata": {},
     "output_type": "execute_result"
    }
   ],
   "source": [
    "df.head()"
   ]
  },
  {
   "cell_type": "code",
   "execution_count": 8,
   "metadata": {},
   "outputs": [
    {
     "data": {
      "image/png": "[encoded data removed]",
      "text/plain": [
       "<Figure size 432x288 with 1 Axes>"
      ]
     },
     "metadata": {
      "needs_background": "light"
     },
     "output_type": "display_data"
    }
   ],
   "source": [
    "# визуализируем данные для setosa красным\n",
    "x_setosa = df[df['species'] == 'setosa']['petal_length']\n",
    "y_setosa = df[df['species'] == 'setosa']['sepal_width']\n",
    "plt.plot(x_setosa, y_setosa, 'ro')\n",
    "\n",
    "# визуализируем данные для versicolor красным\n",
    "x_versicolor = df[df['species'] == 'versicolor']['petal_length']\n",
    "y_versicolor = df[df['species'] == 'versicolor']['sepal_width']\n",
    "plt.plot(x_versicolor, y_versicolor, 'bx')\n",
    "\n",
    "plt.show()"
   ]
  },
  {
   "cell_type": "code",
   "execution_count": 9,
   "metadata": {},
   "outputs": [
    {
     "data": {
      "text/plain": [
       "0     1.4\n",
       "1     1.4\n",
       "2     1.3\n",
       "3     1.5\n",
       "4     1.4\n",
       "5     1.7\n",
       "6     1.4\n",
       "7     1.5\n",
       "8     1.4\n",
       "9     1.5\n",
       "10    1.5\n",
       "11    1.6\n",
       "12    1.4\n",
       "13    1.1\n",
       "14    1.2\n",
       "15    1.5\n",
       "16    1.3\n",
       "17    1.4\n",
       "18    1.7\n",
       "19    1.5\n",
       "20    1.7\n",
       "21    1.5\n",
       "22    1.0\n",
       "23    1.7\n",
       "24    1.9\n",
       "25    1.6\n",
       "26    1.6\n",
       "27    1.5\n",
       "28    1.4\n",
       "29    1.6\n",
       "30    1.6\n",
       "31    1.5\n",
       "32    1.5\n",
       "33    1.4\n",
       "34    1.5\n",
       "35    1.2\n",
       "36    1.3\n",
       "37    1.5\n",
       "38    1.3\n",
       "39    1.5\n",
       "40    1.3\n",
       "41    1.3\n",
       "42    1.3\n",
       "43    1.6\n",
       "44    1.9\n",
       "45    1.4\n",
       "46    1.6\n",
       "47    1.4\n",
       "48    1.5\n",
       "49    1.4\n",
       "Name: petal_length, dtype: float64"
      ]
     },
     "execution_count": 9,
     "metadata": {},
     "output_type": "execute_result"
    }
   ],
   "source": [
    "x_setosa"
   ]
  },
  {
   "cell_type": "code",
   "execution_count": 22,
   "metadata": {},
   "outputs": [
    {
     "data": {
      "text/html": [
       "<div>\n",
       "<style scoped>\n",
       "    .dataframe tbody tr th:only-of-type {\n",
       "        vertical-align: middle;\n",
       "    }\n",
       "\n",
       "    .dataframe tbody tr th {\n",
       "        vertical-align: top;\n",
       "    }\n",
       "\n",
       "    .dataframe thead th {\n",
       "        text-align: right;\n",
       "    }\n",
       "</style>\n",
       "<table border=\"1\" class=\"dataframe\">\n",
       "  <thead>\n",
       "    <tr style=\"text-align: right;\">\n",
       "      <th></th>\n",
       "      <th>1</th>\n",
       "      <th>10</th>\n",
       "      <th>1.1</th>\n",
       "      <th>11</th>\n",
       "      <th>1.2</th>\n",
       "      <th>13</th>\n",
       "      <th>1.3</th>\n",
       "      <th>12</th>\n",
       "      <th>1.4</th>\n",
       "      <th>1.5</th>\n",
       "      <th>9</th>\n",
       "    </tr>\n",
       "  </thead>\n",
       "  <tbody>\n",
       "    <tr>\n",
       "      <th>25004</th>\n",
       "      <td>3</td>\n",
       "      <td>9</td>\n",
       "      <td>2</td>\n",
       "      <td>6</td>\n",
       "      <td>4</td>\n",
       "      <td>11</td>\n",
       "      <td>4</td>\n",
       "      <td>12</td>\n",
       "      <td>2</td>\n",
       "      <td>4</td>\n",
       "      <td>0</td>\n",
       "    </tr>\n",
       "    <tr>\n",
       "      <th>25005</th>\n",
       "      <td>4</td>\n",
       "      <td>1</td>\n",
       "      <td>4</td>\n",
       "      <td>10</td>\n",
       "      <td>3</td>\n",
       "      <td>13</td>\n",
       "      <td>3</td>\n",
       "      <td>4</td>\n",
       "      <td>1</td>\n",
       "      <td>10</td>\n",
       "      <td>1</td>\n",
       "    </tr>\n",
       "    <tr>\n",
       "      <th>25006</th>\n",
       "      <td>2</td>\n",
       "      <td>1</td>\n",
       "      <td>2</td>\n",
       "      <td>10</td>\n",
       "      <td>4</td>\n",
       "      <td>4</td>\n",
       "      <td>4</td>\n",
       "      <td>1</td>\n",
       "      <td>4</td>\n",
       "      <td>13</td>\n",
       "      <td>1</td>\n",
       "    </tr>\n",
       "    <tr>\n",
       "      <th>25007</th>\n",
       "      <td>2</td>\n",
       "      <td>12</td>\n",
       "      <td>4</td>\n",
       "      <td>3</td>\n",
       "      <td>1</td>\n",
       "      <td>10</td>\n",
       "      <td>1</td>\n",
       "      <td>12</td>\n",
       "      <td>4</td>\n",
       "      <td>9</td>\n",
       "      <td>1</td>\n",
       "    </tr>\n",
       "    <tr>\n",
       "      <th>25008</th>\n",
       "      <td>1</td>\n",
       "      <td>7</td>\n",
       "      <td>3</td>\n",
       "      <td>11</td>\n",
       "      <td>3</td>\n",
       "      <td>3</td>\n",
       "      <td>4</td>\n",
       "      <td>8</td>\n",
       "      <td>3</td>\n",
       "      <td>7</td>\n",
       "      <td>1</td>\n",
       "    </tr>\n",
       "  </tbody>\n",
       "</table>\n",
       "</div>"
      ],
      "text/plain": [
       "       1  10  1.1  11  1.2  13  1.3  12  1.4  1.5  9\n",
       "25004  3   9    2   6    4  11    4  12    2    4  0\n",
       "25005  4   1    4  10    3  13    3   4    1   10  1\n",
       "25006  2   1    2  10    4   4    4   1    4   13  1\n",
       "25007  2  12    4   3    1  10    1  12    4    9  1\n",
       "25008  1   7    3  11    3   3    4   8    3    7  1"
      ]
     },
     "execution_count": 22,
     "metadata": {},
     "output_type": "execute_result"
    }
   ],
   "source": [
    "df = pd.read_csv('poker-hand-training.csv')\n",
    "df.head(5)\n",
    "df.tail(5)"
   ]
  },
  {
   "cell_type": "code",
   "execution_count": 23,
   "metadata": {},
   "outputs": [
    {
     "name": "stdout",
     "output_type": "stream",
     "text": [
      "(10, 25009)\n",
      "(1, 25009)\n"
     ]
    }
   ],
   "source": [
    "X = np.array(df[['1', '10', '1.1', '11', '1.2', '13', '1.3', '12', '1.4','1.5']].T)\n",
    "Y = np.array(df[['9']].T)\n",
    "print(X.shape)\n",
    "print(Y.shape)"
   ]
  },
  {
   "cell_type": "code",
   "execution_count": 10,
   "metadata": {},
   "outputs": [
    {
     "data": {
      "text/html": [
       "<div>\n",
       "<style scoped>\n",
       "    .dataframe tbody tr th:only-of-type {\n",
       "        vertical-align: middle;\n",
       "    }\n",
       "\n",
       "    .dataframe tbody tr th {\n",
       "        vertical-align: top;\n",
       "    }\n",
       "\n",
       "    .dataframe thead th {\n",
       "        text-align: right;\n",
       "    }\n",
       "</style>\n",
       "<table border=\"1\" class=\"dataframe\">\n",
       "  <thead>\n",
       "    <tr style=\"text-align: right;\">\n",
       "      <th></th>\n",
       "      <th>petal_length</th>\n",
       "      <th>sepal_width</th>\n",
       "      <th>species</th>\n",
       "    </tr>\n",
       "  </thead>\n",
       "  <tbody>\n",
       "    <tr>\n",
       "      <th>9</th>\n",
       "      <td>1.5</td>\n",
       "      <td>3.1</td>\n",
       "      <td>0</td>\n",
       "    </tr>\n",
       "    <tr>\n",
       "      <th>24</th>\n",
       "      <td>1.9</td>\n",
       "      <td>3.4</td>\n",
       "      <td>0</td>\n",
       "    </tr>\n",
       "    <tr>\n",
       "      <th>93</th>\n",
       "      <td>3.3</td>\n",
       "      <td>2.3</td>\n",
       "      <td>1</td>\n",
       "    </tr>\n",
       "    <tr>\n",
       "      <th>20</th>\n",
       "      <td>1.7</td>\n",
       "      <td>3.4</td>\n",
       "      <td>0</td>\n",
       "    </tr>\n",
       "    <tr>\n",
       "      <th>22</th>\n",
       "      <td>1.0</td>\n",
       "      <td>3.6</td>\n",
       "      <td>0</td>\n",
       "    </tr>\n",
       "  </tbody>\n",
       "</table>\n",
       "</div>"
      ],
      "text/plain": [
       "    petal_length  sepal_width  species\n",
       "9            1.5          3.1        0\n",
       "24           1.9          3.4        0\n",
       "93           3.3          2.3        1\n",
       "20           1.7          3.4        0\n",
       "22           1.0          3.6        0"
      ]
     },
     "execution_count": 10,
     "metadata": {},
     "output_type": "execute_result"
    }
   ],
   "source": [
    "# df = df[['petal_length', 'sepal_width', 'species']] # оставляем только два параметра\n",
    "# df = df.sample(frac=1) # перемешиваем данные\n",
    "# df['species'] = df['species'].astype('category').cat.codes # кодируем setosa и versicolor как 0 и 1\n",
    "# df.head()"
   ]
  },
  {
   "cell_type": "code",
   "execution_count": 13,
   "metadata": {},
   "outputs": [
    {
     "name": "stdout",
     "output_type": "stream",
     "text": [
      "(2, 100)\n",
      "(1, 100)\n"
     ]
    }
   ],
   "source": [
    "# отделяем features и labels\n",
    "# X = np.array(df[['petal_length', 'sepal_width']].T, dtype=np.float64)\n",
    "# Y = np.array(df['species'], dtype=np.float64)\n",
    "# Y = np.reshape(Y, (1, 100))\n",
    "# print(X.shape)\n",
    "# print(Y.shape)"
   ]
  },
  {
   "cell_type": "markdown",
   "metadata": {},
   "source": [
    "## Net input"
   ]
  },
  {
   "cell_type": "markdown",
   "metadata": {},
   "source": [
    "$$ z = \\sum{wx} + b $$"
   ]
  },
  {
   "cell_type": "code",
   "execution_count": 14,
   "metadata": {},
   "outputs": [],
   "source": [
    "def net_input(W, X, b):\n",
    "    return np.dot(W, X) + b"
   ]
  },
  {
   "cell_type": "markdown",
   "metadata": {},
   "source": [
    "## Sigmoid"
   ]
  },
  {
   "cell_type": "markdown",
   "metadata": {},
   "source": [
    "$$ f(z) = \\frac{1}{1 + e^{-z}} $$"
   ]
  },
  {
   "cell_type": "code",
   "execution_count": 15,
   "metadata": {},
   "outputs": [],
   "source": [
    "def sigmoid(Z):\n",
    "    return 1.0/(1 + np.exp(-Z))"
   ]
  },
  {
   "cell_type": "markdown",
   "metadata": {},
   "source": [
    "## Predict"
   ]
  },
  {
   "cell_type": "markdown",
   "metadata": {},
   "source": [
    "Предсказываем класс 1, если модель уверена в ответе \"1\" более, чем на 50%, иначе 0."
   ]
  },
  {
   "cell_type": "code",
   "execution_count": 16,
   "metadata": {},
   "outputs": [],
   "source": [
    "def predict(s):\n",
    "    if s > 0.5:\n",
    "        return 1\n",
    "    else:\n",
    "        return 0"
   ]
  },
  {
   "cell_type": "markdown",
   "metadata": {},
   "source": [
    "## Cost function"
   ]
  },
  {
   "cell_type": "markdown",
   "metadata": {},
   "source": [
    "$$ L(\\hat{y}, y) = - \\frac{1}{m} \\sum{y\\log{\\hat{y}} + (1 - y)\\log{(1 - \\hat{y})}}$$"
   ]
  },
  {
   "cell_type": "code",
   "execution_count": 17,
   "metadata": {},
   "outputs": [],
   "source": [
    "def cost_function(W, X, b, Y):\n",
    "    return -np.sum(Y * np.log(sigmoid(net_input(W, X, b))) + (1 - Y) * np.log(1 - sigmoid(net_input(W, X, b)))) / X.shape[1]"
   ]
  },
  {
   "cell_type": "markdown",
   "metadata": {},
   "source": [
    "## Производные"
   ]
  },
  {
   "cell_type": "markdown",
   "metadata": {},
   "source": [
    "$$ \\frac{\\partial L}{\\partial w} = \\frac{1}{m} \\sum{(\\hat{y} - y) x} $$"
   ]
  },
  {
   "cell_type": "code",
   "execution_count": 18,
   "metadata": {},
   "outputs": [],
   "source": [
    "def cost_function_derivative_w(W, X, b, Y):\n",
    "    return np.dot(sigmoid(net_input(W, X, b)) - Y, X.T) / X.shape[1]"
   ]
  },
  {
   "cell_type": "markdown",
   "metadata": {},
   "source": [
    "$$ \\frac{\\partial L}{\\partial b} = \\frac{1}{m} \\sum{(\\hat{y} - y)} $$"
   ]
  },
  {
   "cell_type": "code",
   "execution_count": 19,
   "metadata": {},
   "outputs": [],
   "source": [
    "def cost_function_derivative_b(W, X, b, Y):\n",
    "    return np.sum(sigmoid(net_input(W, X, b)) - Y) / X.shape[1]"
   ]
  },
  {
   "cell_type": "markdown",
   "metadata": {},
   "source": [
    "## Accuracy"
   ]
  },
  {
   "cell_type": "markdown",
   "metadata": {},
   "source": [
    "Доля правильно предсказанных ответов"
   ]
  },
  {
   "cell_type": "code",
   "execution_count": 20,
   "metadata": {},
   "outputs": [],
   "source": [
    "def accuracy(Y_hat, Y):\n",
    "    return np.sum(Y_hat == Y) / len(Y)"
   ]
  },
  {
   "cell_type": "code",
   "execution_count": null,
   "metadata": {},
   "outputs": [
    {
     "name": "stdout",
     "output_type": "stream",
     "text": [
      "(10, 25009)\n",
      "(1, 25009)\n",
      "0 step\n",
      "0.6931471805599454\n",
      "Accuracy: 10599.0\n",
      "1 step\n",
      "1.2927073156688955\n",
      "Accuracy: 12493.0\n",
      "2 step\n",
      "3.754130415172571\n",
      "Accuracy: 10599.0\n",
      "3 step\n",
      "4.135500316747444\n",
      "Accuracy: 10599.0\n",
      "4 step\n",
      "0.6646282927925611\n",
      "Accuracy: 10599.0\n",
      "5 step\n",
      "0.6649871012295121\n",
      "Accuracy: 10608.0\n",
      "6 step\n",
      "0.6789487862974152\n",
      "Accuracy: 10599.0\n",
      "7 step\n",
      "1.0298082280158092\n",
      "Accuracy: 12493.0\n",
      "8 step\n",
      "3.5904529142399713\n",
      "Accuracy: 10599.0\n",
      "9 step\n",
      "4.225596678633573\n",
      "Accuracy: 10599.0\n",
      "10 step\n",
      "0.6702360410576378\n",
      "Accuracy: 12493.0\n",
      "11 step\n",
      "0.8393574587566297\n",
      "Accuracy: 10599.0\n",
      "12 step\n",
      "2.797081608524052\n",
      "Accuracy: 12493.0\n",
      "13 step\n",
      "1.9079170132334533\n",
      "Accuracy: 10599.0\n",
      "14 step\n",
      "4.809670611204966\n",
      "Accuracy: 10599.0\n",
      "15 step\n",
      "0.9514413219599888\n",
      "Accuracy: 12493.0\n",
      "16 step\n",
      "3.408835632550609\n",
      "Accuracy: 10599.0\n",
      "17 step\n",
      "4.32293781081769\n",
      "Accuracy: 10599.0\n",
      "18 step\n",
      "0.6907378182772582\n",
      "Accuracy: 12493.0\n",
      "19 step\n",
      "1.3300089584228527\n",
      "Accuracy: 10599.0\n",
      "20 step\n",
      "4.413192261464582\n",
      "Accuracy: 10599.0\n",
      "21 step\n",
      "0.7204679529224655\n",
      "Accuracy: 12493.0\n",
      "22 step\n",
      "1.8560322522261234\n",
      "Accuracy: 10599.0\n",
      "23 step\n",
      "4.798411481306118\n",
      "Accuracy: 10599.0\n",
      "24 step\n",
      "0.9431330292103022\n",
      "Accuracy: 12493.0\n",
      "25 step\n",
      "3.382692628197931\n",
      "Accuracy: 10599.0\n",
      "26 step\n",
      "4.335968427784144\n",
      "Accuracy: 10599.0\n",
      "27 step\n",
      "0.6945963185955503\n",
      "Accuracy: 12493.0\n",
      "28 step\n",
      "1.4017310864409773\n",
      "Accuracy: 10599.0\n",
      "29 step\n",
      "4.507583389118373\n",
      "Accuracy: 10599.0\n",
      "30 step\n",
      "0.7621823909090516\n",
      "Accuracy: 12493.0\n",
      "31 step\n",
      "2.3567314993461403\n",
      "Accuracy: 10599.0\n",
      "32 step\n",
      "4.770369451246008\n",
      "Accuracy: 10599.0\n",
      "33 step\n",
      "0.9228258058565189\n",
      "Accuracy: 12493.0\n",
      "34 step\n",
      "3.31577176308459\n",
      "Accuracy: 10599.0\n",
      "35 step\n",
      "4.370255024144042\n",
      "Accuracy: 10599.0\n",
      "36 step\n",
      "0.7053806106037478\n",
      "Accuracy: 12493.0\n",
      "37 step\n",
      "1.5978398802062586\n",
      "Accuracy: 10599.0\n",
      "38 step\n",
      "4.685828587479129\n",
      "Accuracy: 10599.0\n",
      "39 step\n",
      "0.8649980990872813\n",
      "Accuracy: 12493.0\n",
      "40 step\n",
      "3.077250864495749\n",
      "Accuracy: 10599.0\n",
      "41 step\n",
      "4.490045177430134\n",
      "Accuracy: 10599.0\n",
      "42 step\n",
      "0.753843443302454\n",
      "Accuracy: 12493.0\n",
      "43 step\n",
      "2.2609657294647185\n",
      "Accuracy: 10599.0\n",
      "44 step\n",
      "4.78798597122261\n",
      "Accuracy: 10599.0\n",
      "45 step\n",
      "0.9353067589700829\n",
      "Accuracy: 12493.0\n",
      "46 step\n",
      "3.3548681195564605\n",
      "Accuracy: 10599.0\n",
      "47 step\n",
      "4.348493354464338\n",
      "Accuracy: 10599.0\n",
      "48 step\n",
      "0.6986737773927232\n",
      "Accuracy: 12493.0\n",
      "49 step\n",
      "1.463797342945968\n",
      "Accuracy: 10599.0\n",
      "50 step\n",
      "4.569811695814268\n",
      "Accuracy: 10599.0\n",
      "51 step\n",
      "0.7945609297842282\n",
      "Accuracy: 12493.0\n",
      "52 step\n",
      "2.6389443650392423\n",
      "Accuracy: 10599.0\n",
      "53 step\n",
      "4.679124177078585\n",
      "Accuracy: 10599.0\n",
      "54 step\n",
      "0.8604083350814109\n",
      "Accuracy: 12493.0\n",
      "55 step\n",
      "3.0525470667893444\n",
      "Accuracy: 10599.0\n",
      "56 step\n",
      "4.500411224871136\n",
      "Accuracy: 10599.0\n",
      "57 step\n",
      "0.7586941525636981\n",
      "Accuracy: 12493.0\n",
      "58 step\n",
      "2.3080151676832124\n",
      "Accuracy: 10599.0\n",
      "59 step\n",
      "4.776098428426964\n",
      "Accuracy: 10599.0\n",
      "60 step\n",
      "0.9264974100743785\n",
      "Accuracy: 12493.0\n",
      "61 step\n",
      "3.3254987928806976\n",
      "Accuracy: 10599.0\n",
      "62 step\n",
      "4.3627297768863285\n",
      "Accuracy: 10599.0\n",
      "63 step\n",
      "0.7031135092692251\n",
      "Accuracy: 12493.0\n",
      "64 step\n",
      "1.5411797112519712\n",
      "Accuracy: 10599.0\n",
      "65 step\n",
      "4.63642504961987\n",
      "Accuracy: 10599.0\n",
      "66 step\n",
      "0.8332330529487598\n",
      "Accuracy: 12493.0\n",
      "67 step\n",
      "2.903471755384289\n",
      "Accuracy: 10599.0\n",
      "68 step\n",
      "4.568749266452755\n",
      "Accuracy: 10599.0\n",
      "69 step\n",
      "0.7938674146462819\n",
      "Accuracy: 12493.0\n",
      "70 step\n",
      "2.6280685585235406\n",
      "Accuracy: 10599.0\n",
      "71 step\n",
      "4.680622550653855\n",
      "Accuracy: 10599.0\n",
      "72 step\n",
      "0.8611628165497753\n",
      "Accuracy: 12493.0\n",
      "73 step\n",
      "3.0537260059114963\n",
      "Accuracy: 10599.0\n",
      "74 step\n",
      "4.498139909862113\n",
      "Accuracy: 10599.0\n",
      "75 step\n",
      "0.757521594502118\n",
      "Accuracy: 12493.0\n",
      "76 step\n",
      "2.290217404603906\n",
      "Accuracy: 10599.0\n",
      "77 step\n",
      "4.776900172943834\n",
      "Accuracy: 10599.0\n",
      "78 step\n",
      "0.9267953841823572\n",
      "Accuracy: 12493.0\n",
      "79 step\n",
      "3.3258920082278127\n",
      "Accuracy: 10599.0\n",
      "80 step\n",
      "4.361306872744821\n",
      "Accuracy: 10599.0\n",
      "81 step\n",
      "0.7026842141433768\n",
      "Accuracy: 12493.0\n",
      "82 step\n",
      "1.5264003622815066\n",
      "Accuracy: 10599.0\n",
      "83 step\n",
      "4.619997023006541\n",
      "Accuracy: 10599.0\n",
      "84 step\n",
      "0.8230112774023259\n",
      "Accuracy: 12493.0\n",
      "85 step\n",
      "2.8390743017864244\n",
      "Accuracy: 10599.0\n",
      "86 step\n",
      "4.595568569888685\n",
      "Accuracy: 10599.0\n",
      "87 step\n",
      "0.8087508887665081\n",
      "Accuracy: 12493.0\n",
      "88 step\n",
      "2.739163343973822\n",
      "Accuracy: 10599.0\n",
      "89 step\n",
      "4.63649812292539\n",
      "Accuracy: 10599.0\n",
      "90 step\n",
      "0.8331240366523721\n",
      "Accuracy: 12493.0\n",
      "91 step\n",
      "2.897564658336121\n",
      "Accuracy: 10599.0\n",
      "92 step\n",
      "4.568992073238961\n",
      "Accuracy: 10599.0\n",
      "93 step\n",
      "0.7938964690639937\n",
      "Accuracy: 12493.0\n",
      "94 step\n",
      "2.6221260922118605\n",
      "Accuracy: 10599.0\n",
      "95 step\n",
      "4.6800024278428385\n",
      "Accuracy: 10599.0\n",
      "96 step\n",
      "0.8605335898359311\n",
      "Accuracy: 12493.0\n",
      "97 step\n",
      "3.047500509996694\n",
      "Accuracy: 10599.0\n",
      "98 step\n",
      "4.499231451868327\n",
      "Accuracy: 10599.0\n",
      "99 step\n",
      "0.7579742807336101\n",
      "Accuracy: 12493.0\n",
      "100 step\n",
      "2.2885784295847778\n",
      "Accuracy: 10599.0\n",
      "101 step\n",
      "4.773994507292825\n",
      "Accuracy: 10599.0\n",
      "102 step\n",
      "0.9244343399587118\n"
     ]
    }
   ],
   "source": [
    "print(X.shape)\n",
    "print(Y.shape)\n",
    "\n",
    "X.shape\n",
    "Y.shape\n",
    "\n",
    "W = np.zeros((1, X.shape[0]))\n",
    "b = 0\n",
    "\n",
    "NUM_ITERATIONS = 1000\n",
    "LEARNING_RATE = 10e-2\n",
    "\n",
    "for i in range(NUM_ITERATIONS):\n",
    "    print('{} step'.format(i))\n",
    "    print(cost_function(W, X, b, Y))\n",
    "    W = W - LEARNING_RATE * cost_function_derivative_w(W, X, b, Y)\n",
    "    b = b - LEARNING_RATE * cost_function_derivative_b(W, X, b, Y)\n",
    "    Y_pred = np.array([1 if sigmoid(net_input(W, x, b)) > 0.5 else 0 for x in X.T])\n",
    "    print('Accuracy: {}'.format(accuracy(Y_pred, Y)))\n",
    "    \n",
    "print(sigmoid(net_input(W, X, b)))"
   ]
  },
  {
   "cell_type": "markdown",
   "metadata": {},
   "source": [
    "## Scikit-learn"
   ]
  },
  {
   "cell_type": "code",
   "execution_count": null,
   "metadata": {},
   "outputs": [],
   "source": [
    "from sklearn.linear_model import LogisticRegression"
   ]
  },
  {
   "cell_type": "code",
   "execution_count": null,
   "metadata": {},
   "outputs": [],
   "source": [
    "clf = LogisticRegression()\n",
    "clf.fit(X.T, Y.T.ravel())"
   ]
  },
  {
   "cell_type": "code",
   "execution_count": null,
   "metadata": {},
   "outputs": [],
   "source": [
    "X.T"
   ]
  },
  {
   "cell_type": "code",
   "execution_count": null,
   "metadata": {},
   "outputs": [],
   "source": [
    "y_pred = clf.predict([[500, 6.5]])"
   ]
  },
  {
   "cell_type": "code",
   "execution_count": null,
   "metadata": {},
   "outputs": [],
   "source": [
    "y_pred"
   ]
  },
  {
   "cell_type": "code",
   "execution_count": null,
   "metadata": {},
   "outputs": [],
   "source": []
  }
 ],
 "metadata": {
  "kernelspec": {
   "display_name": "Python 3",
   "language": "python",
   "name": "python3"
  },
  "language_info": {
   "codemirror_mode": {
    "name": "ipython",
    "version": 3
   },
   "file_extension": ".py",
   "mimetype": "text/x-python",
   "name": "python",
   "nbconvert_exporter": "python",
   "pygments_lexer": "ipython3",
   "version": "3.7.0"
  }
 },
 "nbformat": 4,
 "nbformat_minor": 2
}
